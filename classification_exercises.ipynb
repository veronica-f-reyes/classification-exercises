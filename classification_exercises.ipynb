{
 "cells": [
  {
   "cell_type": "markdown",
   "id": "1b435a7c",
   "metadata": {},
   "source": [
    "# Classification Exercises"
   ]
  },
  {
   "cell_type": "markdown",
   "id": "6548c5cb",
   "metadata": {},
   "source": [
    "### 1. In a jupyter notebook, classification_exercises.ipynb, use a python module (pydata or seaborn datasets) containing datasets as a source from the iris data. Create a pandas dataframe, df_iris, from this data.\n",
    "\n",
    "- print the first 3 rows\n",
    "- print the number of rows and columns (shape)\n",
    "- print the column names\n",
    "- print the data type of each column\n",
    "- print the summary statistics for each of the numeric variables. \n",
    "    \n",
    "   Would you recommend rescaling the data based on these statistics?"
   ]
  },
  {
   "cell_type": "code",
   "execution_count": null,
   "id": "ef2ddde3",
   "metadata": {},
   "outputs": [],
   "source": [
    "import numpy as np\n",
    "import pandas as pd\n",
    "import matplotlib.pyplot as plt\n",
    "import seaborn as sns"
   ]
  },
  {
   "cell_type": "code",
   "execution_count": null,
   "id": "22f242a8",
   "metadata": {},
   "outputs": [],
   "source": [
    "df_iris = sns.load_dataset('iris')"
   ]
  },
  {
   "cell_type": "code",
   "execution_count": null,
   "id": "99a97598",
   "metadata": {},
   "outputs": [],
   "source": [
    "type(df_iris)"
   ]
  },
  {
   "cell_type": "code",
   "execution_count": null,
   "id": "6539557b",
   "metadata": {},
   "outputs": [],
   "source": [
    "#print the first 3 rows\n",
    "df_iris.head(3) "
   ]
  },
  {
   "cell_type": "code",
   "execution_count": null,
   "id": "e097dfec",
   "metadata": {},
   "outputs": [],
   "source": [
    "#print the number of rows and columns (shape)\n",
    "df_iris.shape"
   ]
  },
  {
   "cell_type": "code",
   "execution_count": null,
   "id": "4c8debcc",
   "metadata": {},
   "outputs": [],
   "source": [
    "#print the column names\n",
    "df_iris.columns"
   ]
  },
  {
   "cell_type": "code",
   "execution_count": null,
   "id": "57d5494e",
   "metadata": {},
   "outputs": [],
   "source": [
    "#print the data type of each column\n",
    "df_iris.dtypes"
   ]
  },
  {
   "cell_type": "code",
   "execution_count": null,
   "id": "d3729f56",
   "metadata": {},
   "outputs": [],
   "source": [
    "#print the summary statistics for each of the numeric variables.\n",
    "df_iris.describe()"
   ]
  },
  {
   "cell_type": "markdown",
   "id": "59e77e0f",
   "metadata": {},
   "source": [
    "### Would you recommend rescaling the data based on these statistics?\n",
    "\n",
    "### -Yes"
   ]
  },
  {
   "cell_type": "markdown",
   "id": "60dd4665",
   "metadata": {},
   "source": [
    "### 2. Read the Table1_CustDetails table from the Excel_Exercises.xlsx file into a dataframe named df_excel.\n",
    "\n",
    "- assign the first 100 rows to a new dataframe, df_excel_sample\n",
    "- print the number of rows of your original dataframe\n",
    "- print the first 5 column names\n",
    "- print the column names that have a data type of object\n",
    "- compute the range for each of the numeric variables."
   ]
  },
  {
   "cell_type": "code",
   "execution_count": null,
   "id": "37120173",
   "metadata": {},
   "outputs": [],
   "source": [
    " df_excel = pd.read_excel('Table1_CustDetails.xlsx', sheet_name='Table1_CustDetails')\n",
    "    "
   ]
  },
  {
   "cell_type": "code",
   "execution_count": null,
   "id": "334a0936",
   "metadata": {},
   "outputs": [],
   "source": [
    " df_excel.head()"
   ]
  },
  {
   "cell_type": "code",
   "execution_count": null,
   "id": "644c2ce9",
   "metadata": {},
   "outputs": [],
   "source": [
    "df_excel.shape"
   ]
  },
  {
   "cell_type": "code",
   "execution_count": null,
   "id": "b5985daf",
   "metadata": {},
   "outputs": [],
   "source": [
    "df_excel_sample = df_excel.head(100)"
   ]
  },
  {
   "cell_type": "code",
   "execution_count": null,
   "id": "c964c1f1",
   "metadata": {},
   "outputs": [],
   "source": [
    "df_excel_sample.shape"
   ]
  },
  {
   "cell_type": "code",
   "execution_count": null,
   "id": "2afc30bc",
   "metadata": {},
   "outputs": [],
   "source": [
    "df_excel_sample.columns[0:5]"
   ]
  },
  {
   "cell_type": "code",
   "execution_count": null,
   "id": "76898c3c",
   "metadata": {},
   "outputs": [],
   "source": [
    "df_excel_sample.dtypes"
   ]
  },
  {
   "cell_type": "code",
   "execution_count": null,
   "id": "dc1812e4",
   "metadata": {},
   "outputs": [],
   "source": [
    "numerics = df_excel_sample.select_dtypes(include=['float64', 'int64'])"
   ]
  },
  {
   "cell_type": "code",
   "execution_count": null,
   "id": "d41c5680",
   "metadata": {},
   "outputs": [],
   "source": [
    "numerics.max() - numerics.min()"
   ]
  },
  {
   "cell_type": "code",
   "execution_count": null,
   "id": "748e18af",
   "metadata": {},
   "outputs": [],
   "source": [
    "df_cols_object_type_bool = df_excel_sample.dtypes == 'object'\n",
    "df_cols_object_type_bool"
   ]
  },
  {
   "cell_type": "code",
   "execution_count": null,
   "id": "aa93feed",
   "metadata": {},
   "outputs": [],
   "source": [
    "object_type_cols = df_excel_sample.dtypes[df_cols_object_type_bool]\n",
    "object_type_cols"
   ]
  },
  {
   "cell_type": "code",
   "execution_count": null,
   "id": "97fc3d72",
   "metadata": {},
   "outputs": [],
   "source": [
    "range_monthly_charges = df_excel.monthly_charges.max() - df_excel.monthly_charges.min()\n",
    "range_monthly_charges"
   ]
  },
  {
   "cell_type": "code",
   "execution_count": null,
   "id": "e7fbcfdb",
   "metadata": {},
   "outputs": [],
   "source": [
    "range_total_charges = df_excel.total_charges.max() - df_excel.total_charges.min()\n",
    "range_total_charges"
   ]
  },
  {
   "cell_type": "code",
   "execution_count": null,
   "id": "051f27fa",
   "metadata": {},
   "outputs": [],
   "source": [
    "range_avg_monthly_charges = df_excel.avg_monthly_charge.max() - df_excel.avg_monthly_charge.min()\n",
    "range_avg_monthly_charges"
   ]
  },
  {
   "cell_type": "code",
   "execution_count": null,
   "id": "639c7071",
   "metadata": {},
   "outputs": [],
   "source": [
    "range_tenure = df_excel.tenure.max() - df_excel.tenure.min()\n",
    "range_tenure"
   ]
  },
  {
   "cell_type": "code",
   "execution_count": null,
   "id": "fb664443",
   "metadata": {},
   "outputs": [],
   "source": [
    "url = \"https://gist.githubusercontent.com/ryanorsinger/3fce5a65b5fb8ab728af5192c7de857e/raw/a0422b7b73749842611742a1064e99088a47917d/clean_telco.csv\"\n",
    "df_excel = pd.read_csv(url, index_col=\"id\")"
   ]
  },
  {
   "cell_type": "markdown",
   "id": "6da670cc",
   "metadata": {},
   "source": [
    "# 3. Read the data from this google sheet into a dataframe, df_google\n",
    "\n",
    "- print the first 3 rows\n",
    "- print the number of rows and columns\n",
    "- print the column names\n",
    "- print the data type of each column\n",
    "- print the summary statistics for each of the numeric variables\n",
    "- print the unique values for each of your categorical variables"
   ]
  },
  {
   "cell_type": "code",
   "execution_count": null,
   "id": "9988a505",
   "metadata": {},
   "outputs": [],
   "source": [
    "sheet_url = \"https://docs.google.com/spreadsheets/d/1Uhtml8KY19LILuZsrDtlsHHDC9wuDGUSe8LTEwvdI5g/edit?usp=sharing\"\n",
    "\n",
    "csv_export_url = sheet_url.replace('/edit?usp=sharing', '/export?format=csv')\n",
    "\n",
    "df_google = pd.read_csv(csv_export_url)\n",
    "df_google.head(3)"
   ]
  },
  {
   "cell_type": "code",
   "execution_count": null,
   "id": "e0244872",
   "metadata": {},
   "outputs": [],
   "source": [
    "df_google.shape"
   ]
  },
  {
   "cell_type": "code",
   "execution_count": null,
   "id": "bc106f04",
   "metadata": {},
   "outputs": [],
   "source": [
    "df_google.columns.tolist()"
   ]
  },
  {
   "cell_type": "code",
   "execution_count": null,
   "id": "b7caca4c",
   "metadata": {},
   "outputs": [],
   "source": [
    "df_google.dtypes"
   ]
  },
  {
   "cell_type": "code",
   "execution_count": null,
   "id": "7e5302d4",
   "metadata": {},
   "outputs": [],
   "source": [
    "df_google.describe().T"
   ]
  },
  {
   "cell_type": "code",
   "execution_count": null,
   "id": "88eddcbd",
   "metadata": {},
   "outputs": [],
   "source": [
    "#print the unique values for each of your categorical variables\n",
    "\n",
    "for column in df_google.select_dtypes(include = 'object').columns:\n",
    "        print(f\"Values in the {column} column:\")\n",
    "        print(df_google[column].value_counts())\n",
    "        print('----')\n",
    "        print ()"
   ]
  },
  {
   "cell_type": "code",
   "execution_count": null,
   "id": "bac91357",
   "metadata": {},
   "outputs": [],
   "source": [
    "df_google.Survived.unique()"
   ]
  },
  {
   "cell_type": "code",
   "execution_count": null,
   "id": "60f487b8",
   "metadata": {},
   "outputs": [],
   "source": [
    "df_google.Pclass.unique()"
   ]
  },
  {
   "cell_type": "code",
   "execution_count": null,
   "id": "a9f1b9ae",
   "metadata": {},
   "outputs": [],
   "source": [
    "df_google.Sex.unique()"
   ]
  },
  {
   "cell_type": "code",
   "execution_count": null,
   "id": "bff434d7",
   "metadata": {},
   "outputs": [],
   "source": [
    "df_google.SibSp.unique()"
   ]
  },
  {
   "cell_type": "code",
   "execution_count": null,
   "id": "a2ce45f5",
   "metadata": {},
   "outputs": [],
   "source": [
    "df_google.Parch.unique()"
   ]
  },
  {
   "cell_type": "code",
   "execution_count": null,
   "id": "c7d26e84",
   "metadata": {},
   "outputs": [],
   "source": [
    "df_google.Cabin.unique()"
   ]
  },
  {
   "cell_type": "code",
   "execution_count": null,
   "id": "1728ae81",
   "metadata": {},
   "outputs": [],
   "source": [
    "df_google.Embarked.unique()"
   ]
  },
  {
   "cell_type": "code",
   "execution_count": null,
   "id": "825980a2",
   "metadata": {},
   "outputs": [],
   "source": [
    "def get_db_url(host, user, password, database):\n",
    "        \n",
    "    url = f'mysql+pymysql://{user}:{password}@{host}/{database}'\n",
    "    \n",
    "    return url\n",
    "\n",
    "def get_titanic_data():\n",
    "    from env import host, user, password\n",
    "\n",
    "    database = 'titanic_db'\n",
    "\n",
    "    query = \"SELECT * FROM passengers;\"\n",
    "\n",
    "    df = pd.read_sql(query, get_db_url(host,user, password, 'titanic_db'))\n",
    "\n",
    "    return df"
   ]
  },
  {
   "cell_type": "code",
   "execution_count": null,
   "id": "fa170852",
   "metadata": {},
   "outputs": [],
   "source": [
    "df = get_titanic_data()"
   ]
  },
  {
   "cell_type": "code",
   "execution_count": null,
   "id": "cdeb9697",
   "metadata": {},
   "outputs": [],
   "source": [
    "df"
   ]
  },
  {
   "cell_type": "code",
   "execution_count": null,
   "id": "15cbd35d",
   "metadata": {},
   "outputs": [],
   "source": [
    "def get_iris_data():\n",
    "    from env import host, user, password\n",
    "       \n",
    "    database = 'iris_db'\n",
    "\n",
    "    query = \"SELECT * FROM species;\"\n",
    "\n",
    "    df = pd.read_sql(query, get_db_url(host,user, password, 'iris_db'))\n",
    "\n",
    "    return df"
   ]
  },
  {
   "cell_type": "code",
   "execution_count": null,
   "id": "cb1b08d4",
   "metadata": {},
   "outputs": [],
   "source": [
    "df_iris = get_iris_data()\n",
    "df_iris"
   ]
  },
  {
   "cell_type": "markdown",
   "id": "d6846056",
   "metadata": {},
   "source": [
    "# Data Preparation Exercises"
   ]
  },
  {
   "cell_type": "markdown",
   "id": "73037302",
   "metadata": {},
   "source": [
    "### 1. Use the function defined in acquire.py to load the iris data."
   ]
  },
  {
   "cell_type": "code",
   "execution_count": 1,
   "id": "1654821e",
   "metadata": {},
   "outputs": [
    {
     "data": {
      "text/html": [
       "<div>\n",
       "<style scoped>\n",
       "    .dataframe tbody tr th:only-of-type {\n",
       "        vertical-align: middle;\n",
       "    }\n",
       "\n",
       "    .dataframe tbody tr th {\n",
       "        vertical-align: top;\n",
       "    }\n",
       "\n",
       "    .dataframe thead th {\n",
       "        text-align: right;\n",
       "    }\n",
       "</style>\n",
       "<table border=\"1\" class=\"dataframe\">\n",
       "  <thead>\n",
       "    <tr style=\"text-align: right;\">\n",
       "      <th></th>\n",
       "      <th>Unnamed: 0</th>\n",
       "      <th>measurement_id</th>\n",
       "      <th>species_id</th>\n",
       "      <th>species_name</th>\n",
       "      <th>sepal_length</th>\n",
       "      <th>sepal_width</th>\n",
       "      <th>petal_length</th>\n",
       "      <th>petal_width</th>\n",
       "    </tr>\n",
       "  </thead>\n",
       "  <tbody>\n",
       "    <tr>\n",
       "      <th>0</th>\n",
       "      <td>0</td>\n",
       "      <td>1</td>\n",
       "      <td>1</td>\n",
       "      <td>setosa</td>\n",
       "      <td>5.1</td>\n",
       "      <td>3.5</td>\n",
       "      <td>1.4</td>\n",
       "      <td>0.2</td>\n",
       "    </tr>\n",
       "    <tr>\n",
       "      <th>1</th>\n",
       "      <td>1</td>\n",
       "      <td>2</td>\n",
       "      <td>1</td>\n",
       "      <td>setosa</td>\n",
       "      <td>4.9</td>\n",
       "      <td>3.0</td>\n",
       "      <td>1.4</td>\n",
       "      <td>0.2</td>\n",
       "    </tr>\n",
       "    <tr>\n",
       "      <th>2</th>\n",
       "      <td>2</td>\n",
       "      <td>3</td>\n",
       "      <td>1</td>\n",
       "      <td>setosa</td>\n",
       "      <td>4.7</td>\n",
       "      <td>3.2</td>\n",
       "      <td>1.3</td>\n",
       "      <td>0.2</td>\n",
       "    </tr>\n",
       "    <tr>\n",
       "      <th>3</th>\n",
       "      <td>3</td>\n",
       "      <td>4</td>\n",
       "      <td>1</td>\n",
       "      <td>setosa</td>\n",
       "      <td>4.6</td>\n",
       "      <td>3.1</td>\n",
       "      <td>1.5</td>\n",
       "      <td>0.2</td>\n",
       "    </tr>\n",
       "    <tr>\n",
       "      <th>4</th>\n",
       "      <td>4</td>\n",
       "      <td>5</td>\n",
       "      <td>1</td>\n",
       "      <td>setosa</td>\n",
       "      <td>5.0</td>\n",
       "      <td>3.6</td>\n",
       "      <td>1.4</td>\n",
       "      <td>0.2</td>\n",
       "    </tr>\n",
       "    <tr>\n",
       "      <th>...</th>\n",
       "      <td>...</td>\n",
       "      <td>...</td>\n",
       "      <td>...</td>\n",
       "      <td>...</td>\n",
       "      <td>...</td>\n",
       "      <td>...</td>\n",
       "      <td>...</td>\n",
       "      <td>...</td>\n",
       "    </tr>\n",
       "    <tr>\n",
       "      <th>145</th>\n",
       "      <td>145</td>\n",
       "      <td>146</td>\n",
       "      <td>3</td>\n",
       "      <td>virginica</td>\n",
       "      <td>6.7</td>\n",
       "      <td>3.0</td>\n",
       "      <td>5.2</td>\n",
       "      <td>2.3</td>\n",
       "    </tr>\n",
       "    <tr>\n",
       "      <th>146</th>\n",
       "      <td>146</td>\n",
       "      <td>147</td>\n",
       "      <td>3</td>\n",
       "      <td>virginica</td>\n",
       "      <td>6.3</td>\n",
       "      <td>2.5</td>\n",
       "      <td>5.0</td>\n",
       "      <td>1.9</td>\n",
       "    </tr>\n",
       "    <tr>\n",
       "      <th>147</th>\n",
       "      <td>147</td>\n",
       "      <td>148</td>\n",
       "      <td>3</td>\n",
       "      <td>virginica</td>\n",
       "      <td>6.5</td>\n",
       "      <td>3.0</td>\n",
       "      <td>5.2</td>\n",
       "      <td>2.0</td>\n",
       "    </tr>\n",
       "    <tr>\n",
       "      <th>148</th>\n",
       "      <td>148</td>\n",
       "      <td>149</td>\n",
       "      <td>3</td>\n",
       "      <td>virginica</td>\n",
       "      <td>6.2</td>\n",
       "      <td>3.4</td>\n",
       "      <td>5.4</td>\n",
       "      <td>2.3</td>\n",
       "    </tr>\n",
       "    <tr>\n",
       "      <th>149</th>\n",
       "      <td>149</td>\n",
       "      <td>150</td>\n",
       "      <td>3</td>\n",
       "      <td>virginica</td>\n",
       "      <td>5.9</td>\n",
       "      <td>3.0</td>\n",
       "      <td>5.1</td>\n",
       "      <td>1.8</td>\n",
       "    </tr>\n",
       "  </tbody>\n",
       "</table>\n",
       "<p>150 rows × 8 columns</p>\n",
       "</div>"
      ],
      "text/plain": [
       "     Unnamed: 0  measurement_id  species_id species_name  sepal_length  \\\n",
       "0             0               1           1       setosa           5.1   \n",
       "1             1               2           1       setosa           4.9   \n",
       "2             2               3           1       setosa           4.7   \n",
       "3             3               4           1       setosa           4.6   \n",
       "4             4               5           1       setosa           5.0   \n",
       "..          ...             ...         ...          ...           ...   \n",
       "145         145             146           3    virginica           6.7   \n",
       "146         146             147           3    virginica           6.3   \n",
       "147         147             148           3    virginica           6.5   \n",
       "148         148             149           3    virginica           6.2   \n",
       "149         149             150           3    virginica           5.9   \n",
       "\n",
       "     sepal_width  petal_length  petal_width  \n",
       "0            3.5           1.4          0.2  \n",
       "1            3.0           1.4          0.2  \n",
       "2            3.2           1.3          0.2  \n",
       "3            3.1           1.5          0.2  \n",
       "4            3.6           1.4          0.2  \n",
       "..           ...           ...          ...  \n",
       "145          3.0           5.2          2.3  \n",
       "146          2.5           5.0          1.9  \n",
       "147          3.0           5.2          2.0  \n",
       "148          3.4           5.4          2.3  \n",
       "149          3.0           5.1          1.8  \n",
       "\n",
       "[150 rows x 8 columns]"
      ]
     },
     "execution_count": 1,
     "metadata": {},
     "output_type": "execute_result"
    }
   ],
   "source": [
    "import pandas as pd\n",
    "import acquire \n",
    "\n",
    "df_iris = acquire.get_iris_data()\n",
    "df_iris"
   ]
  },
  {
   "cell_type": "markdown",
   "id": "aa714b44",
   "metadata": {},
   "source": [
    "### 2. Drop the species_id and measurement_id columns."
   ]
  },
  {
   "cell_type": "code",
   "execution_count": 2,
   "id": "34240819",
   "metadata": {},
   "outputs": [],
   "source": [
    "df_iris = df_iris.drop(columns = ['species_id', 'measurement_id', 'Unnamed: 0'])"
   ]
  },
  {
   "cell_type": "code",
   "execution_count": 3,
   "id": "a9d9b562",
   "metadata": {},
   "outputs": [
    {
     "data": {
      "text/html": [
       "<div>\n",
       "<style scoped>\n",
       "    .dataframe tbody tr th:only-of-type {\n",
       "        vertical-align: middle;\n",
       "    }\n",
       "\n",
       "    .dataframe tbody tr th {\n",
       "        vertical-align: top;\n",
       "    }\n",
       "\n",
       "    .dataframe thead th {\n",
       "        text-align: right;\n",
       "    }\n",
       "</style>\n",
       "<table border=\"1\" class=\"dataframe\">\n",
       "  <thead>\n",
       "    <tr style=\"text-align: right;\">\n",
       "      <th></th>\n",
       "      <th>species_name</th>\n",
       "      <th>sepal_length</th>\n",
       "      <th>sepal_width</th>\n",
       "      <th>petal_length</th>\n",
       "      <th>petal_width</th>\n",
       "    </tr>\n",
       "  </thead>\n",
       "  <tbody>\n",
       "    <tr>\n",
       "      <th>0</th>\n",
       "      <td>setosa</td>\n",
       "      <td>5.1</td>\n",
       "      <td>3.5</td>\n",
       "      <td>1.4</td>\n",
       "      <td>0.2</td>\n",
       "    </tr>\n",
       "    <tr>\n",
       "      <th>1</th>\n",
       "      <td>setosa</td>\n",
       "      <td>4.9</td>\n",
       "      <td>3.0</td>\n",
       "      <td>1.4</td>\n",
       "      <td>0.2</td>\n",
       "    </tr>\n",
       "    <tr>\n",
       "      <th>2</th>\n",
       "      <td>setosa</td>\n",
       "      <td>4.7</td>\n",
       "      <td>3.2</td>\n",
       "      <td>1.3</td>\n",
       "      <td>0.2</td>\n",
       "    </tr>\n",
       "    <tr>\n",
       "      <th>3</th>\n",
       "      <td>setosa</td>\n",
       "      <td>4.6</td>\n",
       "      <td>3.1</td>\n",
       "      <td>1.5</td>\n",
       "      <td>0.2</td>\n",
       "    </tr>\n",
       "    <tr>\n",
       "      <th>4</th>\n",
       "      <td>setosa</td>\n",
       "      <td>5.0</td>\n",
       "      <td>3.6</td>\n",
       "      <td>1.4</td>\n",
       "      <td>0.2</td>\n",
       "    </tr>\n",
       "    <tr>\n",
       "      <th>...</th>\n",
       "      <td>...</td>\n",
       "      <td>...</td>\n",
       "      <td>...</td>\n",
       "      <td>...</td>\n",
       "      <td>...</td>\n",
       "    </tr>\n",
       "    <tr>\n",
       "      <th>145</th>\n",
       "      <td>virginica</td>\n",
       "      <td>6.7</td>\n",
       "      <td>3.0</td>\n",
       "      <td>5.2</td>\n",
       "      <td>2.3</td>\n",
       "    </tr>\n",
       "    <tr>\n",
       "      <th>146</th>\n",
       "      <td>virginica</td>\n",
       "      <td>6.3</td>\n",
       "      <td>2.5</td>\n",
       "      <td>5.0</td>\n",
       "      <td>1.9</td>\n",
       "    </tr>\n",
       "    <tr>\n",
       "      <th>147</th>\n",
       "      <td>virginica</td>\n",
       "      <td>6.5</td>\n",
       "      <td>3.0</td>\n",
       "      <td>5.2</td>\n",
       "      <td>2.0</td>\n",
       "    </tr>\n",
       "    <tr>\n",
       "      <th>148</th>\n",
       "      <td>virginica</td>\n",
       "      <td>6.2</td>\n",
       "      <td>3.4</td>\n",
       "      <td>5.4</td>\n",
       "      <td>2.3</td>\n",
       "    </tr>\n",
       "    <tr>\n",
       "      <th>149</th>\n",
       "      <td>virginica</td>\n",
       "      <td>5.9</td>\n",
       "      <td>3.0</td>\n",
       "      <td>5.1</td>\n",
       "      <td>1.8</td>\n",
       "    </tr>\n",
       "  </tbody>\n",
       "</table>\n",
       "<p>150 rows × 5 columns</p>\n",
       "</div>"
      ],
      "text/plain": [
       "    species_name  sepal_length  sepal_width  petal_length  petal_width\n",
       "0         setosa           5.1          3.5           1.4          0.2\n",
       "1         setosa           4.9          3.0           1.4          0.2\n",
       "2         setosa           4.7          3.2           1.3          0.2\n",
       "3         setosa           4.6          3.1           1.5          0.2\n",
       "4         setosa           5.0          3.6           1.4          0.2\n",
       "..           ...           ...          ...           ...          ...\n",
       "145    virginica           6.7          3.0           5.2          2.3\n",
       "146    virginica           6.3          2.5           5.0          1.9\n",
       "147    virginica           6.5          3.0           5.2          2.0\n",
       "148    virginica           6.2          3.4           5.4          2.3\n",
       "149    virginica           5.9          3.0           5.1          1.8\n",
       "\n",
       "[150 rows x 5 columns]"
      ]
     },
     "execution_count": 3,
     "metadata": {},
     "output_type": "execute_result"
    }
   ],
   "source": [
    "df_iris"
   ]
  },
  {
   "cell_type": "markdown",
   "id": "f6bb09f6",
   "metadata": {},
   "source": [
    "### 3. Rename the species_name column to just species."
   ]
  },
  {
   "cell_type": "code",
   "execution_count": 4,
   "id": "d76083cc",
   "metadata": {},
   "outputs": [],
   "source": [
    "df_iris = df_iris.rename(columns={\"species_name\": \"species\"})"
   ]
  },
  {
   "cell_type": "code",
   "execution_count": 5,
   "id": "2371fa23",
   "metadata": {},
   "outputs": [
    {
     "data": {
      "text/html": [
       "<div>\n",
       "<style scoped>\n",
       "    .dataframe tbody tr th:only-of-type {\n",
       "        vertical-align: middle;\n",
       "    }\n",
       "\n",
       "    .dataframe tbody tr th {\n",
       "        vertical-align: top;\n",
       "    }\n",
       "\n",
       "    .dataframe thead th {\n",
       "        text-align: right;\n",
       "    }\n",
       "</style>\n",
       "<table border=\"1\" class=\"dataframe\">\n",
       "  <thead>\n",
       "    <tr style=\"text-align: right;\">\n",
       "      <th></th>\n",
       "      <th>species</th>\n",
       "      <th>sepal_length</th>\n",
       "      <th>sepal_width</th>\n",
       "      <th>petal_length</th>\n",
       "      <th>petal_width</th>\n",
       "    </tr>\n",
       "  </thead>\n",
       "  <tbody>\n",
       "    <tr>\n",
       "      <th>0</th>\n",
       "      <td>setosa</td>\n",
       "      <td>5.1</td>\n",
       "      <td>3.5</td>\n",
       "      <td>1.4</td>\n",
       "      <td>0.2</td>\n",
       "    </tr>\n",
       "    <tr>\n",
       "      <th>1</th>\n",
       "      <td>setosa</td>\n",
       "      <td>4.9</td>\n",
       "      <td>3.0</td>\n",
       "      <td>1.4</td>\n",
       "      <td>0.2</td>\n",
       "    </tr>\n",
       "    <tr>\n",
       "      <th>2</th>\n",
       "      <td>setosa</td>\n",
       "      <td>4.7</td>\n",
       "      <td>3.2</td>\n",
       "      <td>1.3</td>\n",
       "      <td>0.2</td>\n",
       "    </tr>\n",
       "    <tr>\n",
       "      <th>3</th>\n",
       "      <td>setosa</td>\n",
       "      <td>4.6</td>\n",
       "      <td>3.1</td>\n",
       "      <td>1.5</td>\n",
       "      <td>0.2</td>\n",
       "    </tr>\n",
       "    <tr>\n",
       "      <th>4</th>\n",
       "      <td>setosa</td>\n",
       "      <td>5.0</td>\n",
       "      <td>3.6</td>\n",
       "      <td>1.4</td>\n",
       "      <td>0.2</td>\n",
       "    </tr>\n",
       "    <tr>\n",
       "      <th>...</th>\n",
       "      <td>...</td>\n",
       "      <td>...</td>\n",
       "      <td>...</td>\n",
       "      <td>...</td>\n",
       "      <td>...</td>\n",
       "    </tr>\n",
       "    <tr>\n",
       "      <th>145</th>\n",
       "      <td>virginica</td>\n",
       "      <td>6.7</td>\n",
       "      <td>3.0</td>\n",
       "      <td>5.2</td>\n",
       "      <td>2.3</td>\n",
       "    </tr>\n",
       "    <tr>\n",
       "      <th>146</th>\n",
       "      <td>virginica</td>\n",
       "      <td>6.3</td>\n",
       "      <td>2.5</td>\n",
       "      <td>5.0</td>\n",
       "      <td>1.9</td>\n",
       "    </tr>\n",
       "    <tr>\n",
       "      <th>147</th>\n",
       "      <td>virginica</td>\n",
       "      <td>6.5</td>\n",
       "      <td>3.0</td>\n",
       "      <td>5.2</td>\n",
       "      <td>2.0</td>\n",
       "    </tr>\n",
       "    <tr>\n",
       "      <th>148</th>\n",
       "      <td>virginica</td>\n",
       "      <td>6.2</td>\n",
       "      <td>3.4</td>\n",
       "      <td>5.4</td>\n",
       "      <td>2.3</td>\n",
       "    </tr>\n",
       "    <tr>\n",
       "      <th>149</th>\n",
       "      <td>virginica</td>\n",
       "      <td>5.9</td>\n",
       "      <td>3.0</td>\n",
       "      <td>5.1</td>\n",
       "      <td>1.8</td>\n",
       "    </tr>\n",
       "  </tbody>\n",
       "</table>\n",
       "<p>150 rows × 5 columns</p>\n",
       "</div>"
      ],
      "text/plain": [
       "       species  sepal_length  sepal_width  petal_length  petal_width\n",
       "0       setosa           5.1          3.5           1.4          0.2\n",
       "1       setosa           4.9          3.0           1.4          0.2\n",
       "2       setosa           4.7          3.2           1.3          0.2\n",
       "3       setosa           4.6          3.1           1.5          0.2\n",
       "4       setosa           5.0          3.6           1.4          0.2\n",
       "..         ...           ...          ...           ...          ...\n",
       "145  virginica           6.7          3.0           5.2          2.3\n",
       "146  virginica           6.3          2.5           5.0          1.9\n",
       "147  virginica           6.5          3.0           5.2          2.0\n",
       "148  virginica           6.2          3.4           5.4          2.3\n",
       "149  virginica           5.9          3.0           5.1          1.8\n",
       "\n",
       "[150 rows x 5 columns]"
      ]
     },
     "execution_count": 5,
     "metadata": {},
     "output_type": "execute_result"
    }
   ],
   "source": [
    "df_iris"
   ]
  },
  {
   "cell_type": "markdown",
   "id": "51277824",
   "metadata": {},
   "source": [
    "### 4. Create dummy variables of the species name."
   ]
  },
  {
   "cell_type": "code",
   "execution_count": 6,
   "id": "de402cfa",
   "metadata": {},
   "outputs": [
    {
     "data": {
      "text/html": [
       "<div>\n",
       "<style scoped>\n",
       "    .dataframe tbody tr th:only-of-type {\n",
       "        vertical-align: middle;\n",
       "    }\n",
       "\n",
       "    .dataframe tbody tr th {\n",
       "        vertical-align: top;\n",
       "    }\n",
       "\n",
       "    .dataframe thead th {\n",
       "        text-align: right;\n",
       "    }\n",
       "</style>\n",
       "<table border=\"1\" class=\"dataframe\">\n",
       "  <thead>\n",
       "    <tr style=\"text-align: right;\">\n",
       "      <th></th>\n",
       "      <th>species</th>\n",
       "      <th>sepal_length</th>\n",
       "      <th>sepal_width</th>\n",
       "      <th>petal_length</th>\n",
       "      <th>petal_width</th>\n",
       "      <th>species_setosa</th>\n",
       "      <th>species_versicolor</th>\n",
       "      <th>species_virginica</th>\n",
       "    </tr>\n",
       "  </thead>\n",
       "  <tbody>\n",
       "    <tr>\n",
       "      <th>0</th>\n",
       "      <td>setosa</td>\n",
       "      <td>5.1</td>\n",
       "      <td>3.5</td>\n",
       "      <td>1.4</td>\n",
       "      <td>0.2</td>\n",
       "      <td>1</td>\n",
       "      <td>0</td>\n",
       "      <td>0</td>\n",
       "    </tr>\n",
       "    <tr>\n",
       "      <th>1</th>\n",
       "      <td>setosa</td>\n",
       "      <td>4.9</td>\n",
       "      <td>3.0</td>\n",
       "      <td>1.4</td>\n",
       "      <td>0.2</td>\n",
       "      <td>1</td>\n",
       "      <td>0</td>\n",
       "      <td>0</td>\n",
       "    </tr>\n",
       "    <tr>\n",
       "      <th>2</th>\n",
       "      <td>setosa</td>\n",
       "      <td>4.7</td>\n",
       "      <td>3.2</td>\n",
       "      <td>1.3</td>\n",
       "      <td>0.2</td>\n",
       "      <td>1</td>\n",
       "      <td>0</td>\n",
       "      <td>0</td>\n",
       "    </tr>\n",
       "    <tr>\n",
       "      <th>3</th>\n",
       "      <td>setosa</td>\n",
       "      <td>4.6</td>\n",
       "      <td>3.1</td>\n",
       "      <td>1.5</td>\n",
       "      <td>0.2</td>\n",
       "      <td>1</td>\n",
       "      <td>0</td>\n",
       "      <td>0</td>\n",
       "    </tr>\n",
       "    <tr>\n",
       "      <th>4</th>\n",
       "      <td>setosa</td>\n",
       "      <td>5.0</td>\n",
       "      <td>3.6</td>\n",
       "      <td>1.4</td>\n",
       "      <td>0.2</td>\n",
       "      <td>1</td>\n",
       "      <td>0</td>\n",
       "      <td>0</td>\n",
       "    </tr>\n",
       "  </tbody>\n",
       "</table>\n",
       "</div>"
      ],
      "text/plain": [
       "  species  sepal_length  sepal_width  petal_length  petal_width  \\\n",
       "0  setosa           5.1          3.5           1.4          0.2   \n",
       "1  setosa           4.9          3.0           1.4          0.2   \n",
       "2  setosa           4.7          3.2           1.3          0.2   \n",
       "3  setosa           4.6          3.1           1.5          0.2   \n",
       "4  setosa           5.0          3.6           1.4          0.2   \n",
       "\n",
       "   species_setosa  species_versicolor  species_virginica  \n",
       "0               1                   0                  0  \n",
       "1               1                   0                  0  \n",
       "2               1                   0                  0  \n",
       "3               1                   0                  0  \n",
       "4               1                   0                  0  "
      ]
     },
     "execution_count": 6,
     "metadata": {},
     "output_type": "execute_result"
    }
   ],
   "source": [
    "df_dummy = pd.get_dummies(df_iris[['species']])\n",
    "df_iris = pd.concat([df_iris, df_dummy], axis = 1)\n",
    "df_iris.head()\n"
   ]
  },
  {
   "cell_type": "markdown",
   "id": "f88e1606",
   "metadata": {},
   "source": [
    "### 5. Create a function named prep_iris that accepts the untransformed iris data, and returns the data with the transformations above applied."
   ]
  },
  {
   "cell_type": "code",
   "execution_count": null,
   "id": "1f9be82e",
   "metadata": {},
   "outputs": [],
   "source": [
    "def prep_iris(df):\n",
    "    \n",
    "    import pandas as pd\n",
    "    import acquire \n",
    "\n",
    "    df_iris = acquire.get_iris_data()\n",
    "    \n",
    "    df_iris = df_iris.drop(columns = ['species_id', 'measurement_id', 'Unnamed: 0'])\n",
    "    \n",
    "    df_iris = df_iris.rename(columns={\"species_name\": \"species\"})\n",
    "    \n",
    "    df_dummy = pd.get_dummies(df_iris[['species']])\n",
    "    \n",
    "    return pd.concat([df_iris, df_dummy], axis = 1)\n",
    "    "
   ]
  },
  {
   "cell_type": "code",
   "execution_count": 7,
   "id": "5bed6f69",
   "metadata": {},
   "outputs": [],
   "source": [
    "import prepare"
   ]
  },
  {
   "cell_type": "code",
   "execution_count": 8,
   "id": "cd686867",
   "metadata": {},
   "outputs": [
    {
     "data": {
      "text/html": [
       "<div>\n",
       "<style scoped>\n",
       "    .dataframe tbody tr th:only-of-type {\n",
       "        vertical-align: middle;\n",
       "    }\n",
       "\n",
       "    .dataframe tbody tr th {\n",
       "        vertical-align: top;\n",
       "    }\n",
       "\n",
       "    .dataframe thead th {\n",
       "        text-align: right;\n",
       "    }\n",
       "</style>\n",
       "<table border=\"1\" class=\"dataframe\">\n",
       "  <thead>\n",
       "    <tr style=\"text-align: right;\">\n",
       "      <th></th>\n",
       "      <th>species</th>\n",
       "      <th>sepal_length</th>\n",
       "      <th>sepal_width</th>\n",
       "      <th>petal_length</th>\n",
       "      <th>petal_width</th>\n",
       "      <th>species_setosa</th>\n",
       "      <th>species_versicolor</th>\n",
       "      <th>species_virginica</th>\n",
       "    </tr>\n",
       "  </thead>\n",
       "  <tbody>\n",
       "    <tr>\n",
       "      <th>0</th>\n",
       "      <td>setosa</td>\n",
       "      <td>5.1</td>\n",
       "      <td>3.5</td>\n",
       "      <td>1.4</td>\n",
       "      <td>0.2</td>\n",
       "      <td>1</td>\n",
       "      <td>0</td>\n",
       "      <td>0</td>\n",
       "    </tr>\n",
       "    <tr>\n",
       "      <th>1</th>\n",
       "      <td>setosa</td>\n",
       "      <td>4.9</td>\n",
       "      <td>3.0</td>\n",
       "      <td>1.4</td>\n",
       "      <td>0.2</td>\n",
       "      <td>1</td>\n",
       "      <td>0</td>\n",
       "      <td>0</td>\n",
       "    </tr>\n",
       "    <tr>\n",
       "      <th>2</th>\n",
       "      <td>setosa</td>\n",
       "      <td>4.7</td>\n",
       "      <td>3.2</td>\n",
       "      <td>1.3</td>\n",
       "      <td>0.2</td>\n",
       "      <td>1</td>\n",
       "      <td>0</td>\n",
       "      <td>0</td>\n",
       "    </tr>\n",
       "    <tr>\n",
       "      <th>3</th>\n",
       "      <td>setosa</td>\n",
       "      <td>4.6</td>\n",
       "      <td>3.1</td>\n",
       "      <td>1.5</td>\n",
       "      <td>0.2</td>\n",
       "      <td>1</td>\n",
       "      <td>0</td>\n",
       "      <td>0</td>\n",
       "    </tr>\n",
       "    <tr>\n",
       "      <th>4</th>\n",
       "      <td>setosa</td>\n",
       "      <td>5.0</td>\n",
       "      <td>3.6</td>\n",
       "      <td>1.4</td>\n",
       "      <td>0.2</td>\n",
       "      <td>1</td>\n",
       "      <td>0</td>\n",
       "      <td>0</td>\n",
       "    </tr>\n",
       "    <tr>\n",
       "      <th>...</th>\n",
       "      <td>...</td>\n",
       "      <td>...</td>\n",
       "      <td>...</td>\n",
       "      <td>...</td>\n",
       "      <td>...</td>\n",
       "      <td>...</td>\n",
       "      <td>...</td>\n",
       "      <td>...</td>\n",
       "    </tr>\n",
       "    <tr>\n",
       "      <th>145</th>\n",
       "      <td>virginica</td>\n",
       "      <td>6.7</td>\n",
       "      <td>3.0</td>\n",
       "      <td>5.2</td>\n",
       "      <td>2.3</td>\n",
       "      <td>0</td>\n",
       "      <td>0</td>\n",
       "      <td>1</td>\n",
       "    </tr>\n",
       "    <tr>\n",
       "      <th>146</th>\n",
       "      <td>virginica</td>\n",
       "      <td>6.3</td>\n",
       "      <td>2.5</td>\n",
       "      <td>5.0</td>\n",
       "      <td>1.9</td>\n",
       "      <td>0</td>\n",
       "      <td>0</td>\n",
       "      <td>1</td>\n",
       "    </tr>\n",
       "    <tr>\n",
       "      <th>147</th>\n",
       "      <td>virginica</td>\n",
       "      <td>6.5</td>\n",
       "      <td>3.0</td>\n",
       "      <td>5.2</td>\n",
       "      <td>2.0</td>\n",
       "      <td>0</td>\n",
       "      <td>0</td>\n",
       "      <td>1</td>\n",
       "    </tr>\n",
       "    <tr>\n",
       "      <th>148</th>\n",
       "      <td>virginica</td>\n",
       "      <td>6.2</td>\n",
       "      <td>3.4</td>\n",
       "      <td>5.4</td>\n",
       "      <td>2.3</td>\n",
       "      <td>0</td>\n",
       "      <td>0</td>\n",
       "      <td>1</td>\n",
       "    </tr>\n",
       "    <tr>\n",
       "      <th>149</th>\n",
       "      <td>virginica</td>\n",
       "      <td>5.9</td>\n",
       "      <td>3.0</td>\n",
       "      <td>5.1</td>\n",
       "      <td>1.8</td>\n",
       "      <td>0</td>\n",
       "      <td>0</td>\n",
       "      <td>1</td>\n",
       "    </tr>\n",
       "  </tbody>\n",
       "</table>\n",
       "<p>150 rows × 8 columns</p>\n",
       "</div>"
      ],
      "text/plain": [
       "       species  sepal_length  sepal_width  petal_length  petal_width  \\\n",
       "0       setosa           5.1          3.5           1.4          0.2   \n",
       "1       setosa           4.9          3.0           1.4          0.2   \n",
       "2       setosa           4.7          3.2           1.3          0.2   \n",
       "3       setosa           4.6          3.1           1.5          0.2   \n",
       "4       setosa           5.0          3.6           1.4          0.2   \n",
       "..         ...           ...          ...           ...          ...   \n",
       "145  virginica           6.7          3.0           5.2          2.3   \n",
       "146  virginica           6.3          2.5           5.0          1.9   \n",
       "147  virginica           6.5          3.0           5.2          2.0   \n",
       "148  virginica           6.2          3.4           5.4          2.3   \n",
       "149  virginica           5.9          3.0           5.1          1.8   \n",
       "\n",
       "     species_setosa  species_versicolor  species_virginica  \n",
       "0                 1                   0                  0  \n",
       "1                 1                   0                  0  \n",
       "2                 1                   0                  0  \n",
       "3                 1                   0                  0  \n",
       "4                 1                   0                  0  \n",
       "..              ...                 ...                ...  \n",
       "145               0                   0                  1  \n",
       "146               0                   0                  1  \n",
       "147               0                   0                  1  \n",
       "148               0                   0                  1  \n",
       "149               0                   0                  1  \n",
       "\n",
       "[150 rows x 8 columns]"
      ]
     },
     "execution_count": 8,
     "metadata": {},
     "output_type": "execute_result"
    }
   ],
   "source": [
    "prepare.prep_iris()"
   ]
  },
  {
   "cell_type": "markdown",
   "id": "5a2365de",
   "metadata": {},
   "source": [
    "# Imputing Data"
   ]
  },
  {
   "cell_type": "code",
   "execution_count": 3,
   "id": "8b82b194",
   "metadata": {},
   "outputs": [],
   "source": [
    "import pandas as pd\n",
    "import numpy as np\n",
    "import matplotlib.pyplot as plt\n",
    "\n",
    "from sklearn.model_selection import train_test_split\n",
    "from sklearn.impute import SimpleImputer\n",
    "\n",
    "import warnings\n",
    "warnings.filterwarnings(\"ignore\")\n",
    "\n",
    "import acquire"
   ]
  },
  {
   "cell_type": "code",
   "execution_count": 4,
   "id": "00811a5b",
   "metadata": {},
   "outputs": [],
   "source": [
    "df = acquire.get_titanic_data()"
   ]
  },
  {
   "cell_type": "code",
   "execution_count": 5,
   "id": "a68ca201",
   "metadata": {},
   "outputs": [
    {
     "data": {
      "text/plain": [
       "(891, 14)"
      ]
     },
     "execution_count": 5,
     "metadata": {},
     "output_type": "execute_result"
    }
   ],
   "source": [
    "# rows & columns\n",
    "df.shape"
   ]
  },
  {
   "cell_type": "code",
   "execution_count": 6,
   "id": "753980df",
   "metadata": {},
   "outputs": [
    {
     "data": {
      "text/html": [
       "<div>\n",
       "<style scoped>\n",
       "    .dataframe tbody tr th:only-of-type {\n",
       "        vertical-align: middle;\n",
       "    }\n",
       "\n",
       "    .dataframe tbody tr th {\n",
       "        vertical-align: top;\n",
       "    }\n",
       "\n",
       "    .dataframe thead th {\n",
       "        text-align: right;\n",
       "    }\n",
       "</style>\n",
       "<table border=\"1\" class=\"dataframe\">\n",
       "  <thead>\n",
       "    <tr style=\"text-align: right;\">\n",
       "      <th></th>\n",
       "      <th>Unnamed: 0</th>\n",
       "      <th>passenger_id</th>\n",
       "      <th>survived</th>\n",
       "      <th>pclass</th>\n",
       "      <th>sex</th>\n",
       "      <th>age</th>\n",
       "      <th>sibsp</th>\n",
       "      <th>parch</th>\n",
       "      <th>fare</th>\n",
       "      <th>embarked</th>\n",
       "      <th>class</th>\n",
       "      <th>deck</th>\n",
       "      <th>embark_town</th>\n",
       "      <th>alone</th>\n",
       "    </tr>\n",
       "  </thead>\n",
       "  <tbody>\n",
       "    <tr>\n",
       "      <th>0</th>\n",
       "      <td>0</td>\n",
       "      <td>0</td>\n",
       "      <td>0</td>\n",
       "      <td>3</td>\n",
       "      <td>male</td>\n",
       "      <td>22.0</td>\n",
       "      <td>1</td>\n",
       "      <td>0</td>\n",
       "      <td>7.2500</td>\n",
       "      <td>S</td>\n",
       "      <td>Third</td>\n",
       "      <td>NaN</td>\n",
       "      <td>Southampton</td>\n",
       "      <td>0</td>\n",
       "    </tr>\n",
       "    <tr>\n",
       "      <th>1</th>\n",
       "      <td>1</td>\n",
       "      <td>1</td>\n",
       "      <td>1</td>\n",
       "      <td>1</td>\n",
       "      <td>female</td>\n",
       "      <td>38.0</td>\n",
       "      <td>1</td>\n",
       "      <td>0</td>\n",
       "      <td>71.2833</td>\n",
       "      <td>C</td>\n",
       "      <td>First</td>\n",
       "      <td>C</td>\n",
       "      <td>Cherbourg</td>\n",
       "      <td>0</td>\n",
       "    </tr>\n",
       "    <tr>\n",
       "      <th>2</th>\n",
       "      <td>2</td>\n",
       "      <td>2</td>\n",
       "      <td>1</td>\n",
       "      <td>3</td>\n",
       "      <td>female</td>\n",
       "      <td>26.0</td>\n",
       "      <td>0</td>\n",
       "      <td>0</td>\n",
       "      <td>7.9250</td>\n",
       "      <td>S</td>\n",
       "      <td>Third</td>\n",
       "      <td>NaN</td>\n",
       "      <td>Southampton</td>\n",
       "      <td>1</td>\n",
       "    </tr>\n",
       "    <tr>\n",
       "      <th>3</th>\n",
       "      <td>3</td>\n",
       "      <td>3</td>\n",
       "      <td>1</td>\n",
       "      <td>1</td>\n",
       "      <td>female</td>\n",
       "      <td>35.0</td>\n",
       "      <td>1</td>\n",
       "      <td>0</td>\n",
       "      <td>53.1000</td>\n",
       "      <td>S</td>\n",
       "      <td>First</td>\n",
       "      <td>C</td>\n",
       "      <td>Southampton</td>\n",
       "      <td>0</td>\n",
       "    </tr>\n",
       "    <tr>\n",
       "      <th>4</th>\n",
       "      <td>4</td>\n",
       "      <td>4</td>\n",
       "      <td>0</td>\n",
       "      <td>3</td>\n",
       "      <td>male</td>\n",
       "      <td>35.0</td>\n",
       "      <td>0</td>\n",
       "      <td>0</td>\n",
       "      <td>8.0500</td>\n",
       "      <td>S</td>\n",
       "      <td>Third</td>\n",
       "      <td>NaN</td>\n",
       "      <td>Southampton</td>\n",
       "      <td>1</td>\n",
       "    </tr>\n",
       "  </tbody>\n",
       "</table>\n",
       "</div>"
      ],
      "text/plain": [
       "   Unnamed: 0  passenger_id  survived  pclass     sex   age  sibsp  parch  \\\n",
       "0           0             0         0       3    male  22.0      1      0   \n",
       "1           1             1         1       1  female  38.0      1      0   \n",
       "2           2             2         1       3  female  26.0      0      0   \n",
       "3           3             3         1       1  female  35.0      1      0   \n",
       "4           4             4         0       3    male  35.0      0      0   \n",
       "\n",
       "      fare embarked  class deck  embark_town  alone  \n",
       "0   7.2500        S  Third  NaN  Southampton      0  \n",
       "1  71.2833        C  First    C    Cherbourg      0  \n",
       "2   7.9250        S  Third  NaN  Southampton      1  \n",
       "3  53.1000        S  First    C  Southampton      0  \n",
       "4   8.0500        S  Third  NaN  Southampton      1  "
      ]
     },
     "execution_count": 6,
     "metadata": {},
     "output_type": "execute_result"
    }
   ],
   "source": [
    "# first n rows\n",
    "df.head()"
   ]
  },
  {
   "cell_type": "code",
   "execution_count": 7,
   "id": "bf63fd6c",
   "metadata": {},
   "outputs": [],
   "source": [
    "def split_titanic_data(df):\n",
    "    \"\"\"\n",
    "    splits the data in train validate and test \n",
    "    \"\"\"\n",
    "    train, test = train_test_split(df, test_size = 0.2, random_state = 123, stratify = df.survived)\n",
    "    \n",
    "    #Splitting again but this time passing in train to split up\n",
    "    train, validate = train_test_split(train, test_size=.25, random_state=123, stratify=train.survived)\n",
    "    \n",
    "    return train, validate, test"
   ]
  },
  {
   "cell_type": "code",
   "execution_count": 13,
   "id": "423aadbc",
   "metadata": {},
   "outputs": [],
   "source": [
    "train, validate, test = split_titanic_data(df)"
   ]
  },
  {
   "cell_type": "code",
   "execution_count": 14,
   "id": "8b9de7d2",
   "metadata": {},
   "outputs": [
    {
     "data": {
      "text/plain": [
       "SimpleImputer(strategy='most_frequent')"
      ]
     },
     "execution_count": 14,
     "metadata": {},
     "output_type": "execute_result"
    }
   ],
   "source": [
    "# Define the thing:\n",
    "\n",
    "imputer = SimpleImputer(strategy ='most_frequent')\n",
    "imputer"
   ]
  },
  {
   "cell_type": "code",
   "execution_count": 15,
   "id": "193d6495",
   "metadata": {},
   "outputs": [
    {
     "data": {
      "text/plain": [
       "SimpleImputer(strategy='most_frequent')"
      ]
     },
     "execution_count": 15,
     "metadata": {},
     "output_type": "execute_result"
    }
   ],
   "source": [
    "# fit the thing on train, not validate and test, because that would be training your model on future data\n",
    "\n",
    "imputer = imputer.fit(train[['embark_town']])\n",
    "imputer"
   ]
  },
  {
   "cell_type": "code",
   "execution_count": 16,
   "id": "88a036c5",
   "metadata": {},
   "outputs": [],
   "source": [
    "# Use the thing (i.e transform)\n",
    "\n",
    "train[['embark_town']] = imputer.transform(train[['embark_town']])\n",
    "\n",
    "validate[['embark_town']] = imputer.transform(validate[['embark_town']])\n",
    "\n",
    "test[['embark_town']] = imputer.transform(test[['embark_town']])"
   ]
  },
  {
   "cell_type": "code",
   "execution_count": null,
   "id": "6e969734",
   "metadata": {},
   "outputs": [],
   "source": []
  }
 ],
 "metadata": {
  "kernelspec": {
   "display_name": "Python 3",
   "language": "python",
   "name": "python3"
  },
  "language_info": {
   "codemirror_mode": {
    "name": "ipython",
    "version": 3
   },
   "file_extension": ".py",
   "mimetype": "text/x-python",
   "name": "python",
   "nbconvert_exporter": "python",
   "pygments_lexer": "ipython3",
   "version": "3.8.8"
  }
 },
 "nbformat": 4,
 "nbformat_minor": 5
}
